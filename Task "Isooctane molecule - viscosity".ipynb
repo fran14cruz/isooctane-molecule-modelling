{
 "cells": [
  {
   "cell_type": "markdown",
   "metadata": {},
   "source": [
    "<p>\n",
    "    <b>Third-year Coursework</b><br><br>\n",
    "    <b>Математическое моделирование свойств жидкостей</b><br>\n",
    "    <b>Mathematical modeling of fluid properties</b><br>\n",
    "</p>\n",
    "<p>\n",
    "    This notebook outlines the computation of <b>viscosity</b> for an isooctane molecule.\n",
    "    <ul>\n",
    "        <li>STEP 1: Files execution</li>\n",
    "        <li>STEP 2: Data processing</li>\n",
    "        <li>STEP 3: Data visualisation</li>\n",
    "        <li>STEP 4: Comparison</li>\n",
    "    </ul>\n",
    "</p>"
   ]
  },
  {
   "cell_type": "markdown",
   "metadata": {},
   "source": [
    "<h2>STEP 2</h2>\n",
    "<h3>Data processing</h3>"
   ]
  },
  {
   "cell_type": "code",
   "execution_count": 1,
   "metadata": {},
   "outputs": [],
   "source": [
    "# Libraries\n",
    "import pandas as pd\n",
    "from matplotlib import pyplot as plt\n",
    "from sklearn import metrics\n",
    "import numpy as np"
   ]
  },
  {
   "cell_type": "markdown",
   "metadata": {},
   "source": [
    "<h4>1) Pressure value: 0.1 MPa</h4>"
   ]
  },
  {
   "cell_type": "code",
   "execution_count": 2,
   "metadata": {},
   "outputs": [
    {
     "data": {
      "text/html": [
       "<div>\n",
       "<style scoped>\n",
       "    .dataframe tbody tr th:only-of-type {\n",
       "        vertical-align: middle;\n",
       "    }\n",
       "\n",
       "    .dataframe tbody tr th {\n",
       "        vertical-align: top;\n",
       "    }\n",
       "\n",
       "    .dataframe thead th {\n",
       "        text-align: right;\n",
       "    }\n",
       "</style>\n",
       "<table border=\"1\" class=\"dataframe\">\n",
       "  <thead>\n",
       "    <tr style=\"text-align: right;\">\n",
       "      <th></th>\n",
       "      <th>No.</th>\n",
       "      <th>C1</th>\n",
       "      <th>C2</th>\n",
       "    </tr>\n",
       "  </thead>\n",
       "  <tbody>\n",
       "    <tr>\n",
       "      <th>0</th>\n",
       "      <td>1</td>\n",
       "      <td>1100</td>\n",
       "      <td>-0.000092</td>\n",
       "    </tr>\n",
       "    <tr>\n",
       "      <th>1</th>\n",
       "      <td>2</td>\n",
       "      <td>1100</td>\n",
       "      <td>-0.000072</td>\n",
       "    </tr>\n",
       "    <tr>\n",
       "      <th>2</th>\n",
       "      <td>3</td>\n",
       "      <td>1100</td>\n",
       "      <td>-0.000059</td>\n",
       "    </tr>\n",
       "    <tr>\n",
       "      <th>3</th>\n",
       "      <td>4</td>\n",
       "      <td>1100</td>\n",
       "      <td>-0.000054</td>\n",
       "    </tr>\n",
       "    <tr>\n",
       "      <th>4</th>\n",
       "      <td>5</td>\n",
       "      <td>1100</td>\n",
       "      <td>-0.000045</td>\n",
       "    </tr>\n",
       "  </tbody>\n",
       "</table>\n",
       "</div>"
      ],
      "text/plain": [
       "   No.    C1        C2\n",
       "0    1  1100 -0.000092\n",
       "1    2  1100 -0.000072\n",
       "2    3  1100 -0.000059\n",
       "3    4  1100 -0.000054\n",
       "4    5  1100 -0.000045"
      ]
     },
     "execution_count": 2,
     "metadata": {},
     "output_type": "execute_result"
    }
   ],
   "source": [
    "# import txt file and create dataframe\n",
    "filename1 = \"profile-av/profile-av1.txt\"\n",
    "results_av_v1 = pd.read_csv(filename1, sep=' ', \n",
    "                names = [\"No.\", \"C1\", \"C2\"]) # assign names to columns\n",
    "\n",
    "results_av_v1.head()"
   ]
  },
  {
   "cell_type": "code",
   "execution_count": 3,
   "metadata": {},
   "outputs": [
    {
     "name": "stdout",
     "output_type": "stream",
     "text": [
      "Slope: 7.577030294117646e-06\n"
     ]
    }
   ],
   "source": [
    "# Calculate slope НАКЛОН\n",
    "from scipy.interpolate import *\n",
    "import numpy as np\n",
    "\n",
    "x = results_av_v1[\"No.\"].iloc[3:19].tolist() # extract data from 2nd to 9th\n",
    "y = results_av_v1[\"C2\"].iloc[3:19].tolist()\n",
    "\n",
    "slope1 = np.polyfit(x, y, 1) # slope1 constains SLOPE and INTERCEPT\n",
    "print(\"Slope: \" + str(slope1[0])) # SLOPE"
   ]
  },
  {
   "cell_type": "markdown",
   "metadata": {},
   "source": [
    "<h4>2) Pressure value: 26.4 MPa</h4>"
   ]
  },
  {
   "cell_type": "code",
   "execution_count": 4,
   "metadata": {},
   "outputs": [
    {
     "data": {
      "text/html": [
       "<div>\n",
       "<style scoped>\n",
       "    .dataframe tbody tr th:only-of-type {\n",
       "        vertical-align: middle;\n",
       "    }\n",
       "\n",
       "    .dataframe tbody tr th {\n",
       "        vertical-align: top;\n",
       "    }\n",
       "\n",
       "    .dataframe thead th {\n",
       "        text-align: right;\n",
       "    }\n",
       "</style>\n",
       "<table border=\"1\" class=\"dataframe\">\n",
       "  <thead>\n",
       "    <tr style=\"text-align: right;\">\n",
       "      <th></th>\n",
       "      <th>No.</th>\n",
       "      <th>C1</th>\n",
       "      <th>C2</th>\n",
       "    </tr>\n",
       "  </thead>\n",
       "  <tbody>\n",
       "    <tr>\n",
       "      <th>0</th>\n",
       "      <td>1</td>\n",
       "      <td>1100</td>\n",
       "      <td>-0.000069</td>\n",
       "    </tr>\n",
       "    <tr>\n",
       "      <th>1</th>\n",
       "      <td>2</td>\n",
       "      <td>1100</td>\n",
       "      <td>-0.000051</td>\n",
       "    </tr>\n",
       "    <tr>\n",
       "      <th>2</th>\n",
       "      <td>3</td>\n",
       "      <td>1100</td>\n",
       "      <td>-0.000045</td>\n",
       "    </tr>\n",
       "    <tr>\n",
       "      <th>3</th>\n",
       "      <td>4</td>\n",
       "      <td>1100</td>\n",
       "      <td>-0.000041</td>\n",
       "    </tr>\n",
       "    <tr>\n",
       "      <th>4</th>\n",
       "      <td>5</td>\n",
       "      <td>1100</td>\n",
       "      <td>-0.000034</td>\n",
       "    </tr>\n",
       "  </tbody>\n",
       "</table>\n",
       "</div>"
      ],
      "text/plain": [
       "   No.    C1        C2\n",
       "0    1  1100 -0.000069\n",
       "1    2  1100 -0.000051\n",
       "2    3  1100 -0.000045\n",
       "3    4  1100 -0.000041\n",
       "4    5  1100 -0.000034"
      ]
     },
     "execution_count": 4,
     "metadata": {},
     "output_type": "execute_result"
    }
   ],
   "source": [
    "# import txt file and create dataframe\n",
    "filename2 = \"profile-av/profile-av2.txt\"\n",
    "results_av_v2 = pd.read_csv(filename2, sep=' ', \n",
    "                names = [\"No.\", \"C1\", \"C2\"]) # assign names to columns\n",
    "\n",
    "results_av_v2.head()"
   ]
  },
  {
   "cell_type": "markdown",
   "metadata": {},
   "source": [
    "<h4>3) Pressure value: 50.0 MPa</h4>"
   ]
  },
  {
   "cell_type": "code",
   "execution_count": 5,
   "metadata": {},
   "outputs": [
    {
     "data": {
      "text/html": [
       "<div>\n",
       "<style scoped>\n",
       "    .dataframe tbody tr th:only-of-type {\n",
       "        vertical-align: middle;\n",
       "    }\n",
       "\n",
       "    .dataframe tbody tr th {\n",
       "        vertical-align: top;\n",
       "    }\n",
       "\n",
       "    .dataframe thead th {\n",
       "        text-align: right;\n",
       "    }\n",
       "</style>\n",
       "<table border=\"1\" class=\"dataframe\">\n",
       "  <thead>\n",
       "    <tr style=\"text-align: right;\">\n",
       "      <th></th>\n",
       "      <th>No.</th>\n",
       "      <th>C1</th>\n",
       "      <th>C2</th>\n",
       "    </tr>\n",
       "  </thead>\n",
       "  <tbody>\n",
       "    <tr>\n",
       "      <th>0</th>\n",
       "      <td>1</td>\n",
       "      <td>1100</td>\n",
       "      <td>-0.000057</td>\n",
       "    </tr>\n",
       "    <tr>\n",
       "      <th>1</th>\n",
       "      <td>2</td>\n",
       "      <td>1100</td>\n",
       "      <td>-0.000046</td>\n",
       "    </tr>\n",
       "    <tr>\n",
       "      <th>2</th>\n",
       "      <td>3</td>\n",
       "      <td>1100</td>\n",
       "      <td>-0.000038</td>\n",
       "    </tr>\n",
       "    <tr>\n",
       "      <th>3</th>\n",
       "      <td>4</td>\n",
       "      <td>1100</td>\n",
       "      <td>-0.000033</td>\n",
       "    </tr>\n",
       "    <tr>\n",
       "      <th>4</th>\n",
       "      <td>5</td>\n",
       "      <td>1100</td>\n",
       "      <td>-0.000032</td>\n",
       "    </tr>\n",
       "  </tbody>\n",
       "</table>\n",
       "</div>"
      ],
      "text/plain": [
       "   No.    C1        C2\n",
       "0    1  1100 -0.000057\n",
       "1    2  1100 -0.000046\n",
       "2    3  1100 -0.000038\n",
       "3    4  1100 -0.000033\n",
       "4    5  1100 -0.000032"
      ]
     },
     "execution_count": 5,
     "metadata": {},
     "output_type": "execute_result"
    }
   ],
   "source": [
    "# import txt file and create dataframe\n",
    "filename3 = \"profile-av/profile-av3.txt\"\n",
    "results_av_v3 = pd.read_csv(filename3, sep=' ', \n",
    "                names = [\"No.\", \"C1\", \"C2\"]) # assign names to columns\n",
    "\n",
    "results_av_v3.head()"
   ]
  },
  {
   "cell_type": "markdown",
   "metadata": {},
   "source": [
    "<h4>4) Pressure value: 70.0 MPa</h4>"
   ]
  },
  {
   "cell_type": "code",
   "execution_count": 6,
   "metadata": {},
   "outputs": [
    {
     "data": {
      "text/html": [
       "<div>\n",
       "<style scoped>\n",
       "    .dataframe tbody tr th:only-of-type {\n",
       "        vertical-align: middle;\n",
       "    }\n",
       "\n",
       "    .dataframe tbody tr th {\n",
       "        vertical-align: top;\n",
       "    }\n",
       "\n",
       "    .dataframe thead th {\n",
       "        text-align: right;\n",
       "    }\n",
       "</style>\n",
       "<table border=\"1\" class=\"dataframe\">\n",
       "  <thead>\n",
       "    <tr style=\"text-align: right;\">\n",
       "      <th></th>\n",
       "      <th>No.</th>\n",
       "      <th>C1</th>\n",
       "      <th>C2</th>\n",
       "    </tr>\n",
       "  </thead>\n",
       "  <tbody>\n",
       "    <tr>\n",
       "      <th>0</th>\n",
       "      <td>1</td>\n",
       "      <td>1100</td>\n",
       "      <td>-0.000050</td>\n",
       "    </tr>\n",
       "    <tr>\n",
       "      <th>1</th>\n",
       "      <td>2</td>\n",
       "      <td>1100</td>\n",
       "      <td>-0.000039</td>\n",
       "    </tr>\n",
       "    <tr>\n",
       "      <th>2</th>\n",
       "      <td>3</td>\n",
       "      <td>1100</td>\n",
       "      <td>-0.000032</td>\n",
       "    </tr>\n",
       "    <tr>\n",
       "      <th>3</th>\n",
       "      <td>4</td>\n",
       "      <td>1100</td>\n",
       "      <td>-0.000029</td>\n",
       "    </tr>\n",
       "    <tr>\n",
       "      <th>4</th>\n",
       "      <td>5</td>\n",
       "      <td>1100</td>\n",
       "      <td>-0.000028</td>\n",
       "    </tr>\n",
       "  </tbody>\n",
       "</table>\n",
       "</div>"
      ],
      "text/plain": [
       "   No.    C1        C2\n",
       "0    1  1100 -0.000050\n",
       "1    2  1100 -0.000039\n",
       "2    3  1100 -0.000032\n",
       "3    4  1100 -0.000029\n",
       "4    5  1100 -0.000028"
      ]
     },
     "execution_count": 6,
     "metadata": {},
     "output_type": "execute_result"
    }
   ],
   "source": [
    "# import txt file and create dataframe\n",
    "filename4 = \"profile-av/profile-av4.txt\"\n",
    "results_av_v4 = pd.read_csv(filename4, sep=' ', \n",
    "                names = [\"No.\", \"C1\", \"C2\"]) # assign names to columns\n",
    "\n",
    "results_av_v4.head()"
   ]
  },
  {
   "cell_type": "markdown",
   "metadata": {},
   "source": [
    "<h4>5) Pressure value: 100.0 MPa</h4>"
   ]
  },
  {
   "cell_type": "code",
   "execution_count": 7,
   "metadata": {},
   "outputs": [
    {
     "data": {
      "text/html": [
       "<div>\n",
       "<style scoped>\n",
       "    .dataframe tbody tr th:only-of-type {\n",
       "        vertical-align: middle;\n",
       "    }\n",
       "\n",
       "    .dataframe tbody tr th {\n",
       "        vertical-align: top;\n",
       "    }\n",
       "\n",
       "    .dataframe thead th {\n",
       "        text-align: right;\n",
       "    }\n",
       "</style>\n",
       "<table border=\"1\" class=\"dataframe\">\n",
       "  <thead>\n",
       "    <tr style=\"text-align: right;\">\n",
       "      <th></th>\n",
       "      <th>No.</th>\n",
       "      <th>C1</th>\n",
       "      <th>C2</th>\n",
       "    </tr>\n",
       "  </thead>\n",
       "  <tbody>\n",
       "    <tr>\n",
       "      <th>0</th>\n",
       "      <td>1</td>\n",
       "      <td>1100</td>\n",
       "      <td>-0.000042</td>\n",
       "    </tr>\n",
       "    <tr>\n",
       "      <th>1</th>\n",
       "      <td>2</td>\n",
       "      <td>1100</td>\n",
       "      <td>-0.000033</td>\n",
       "    </tr>\n",
       "    <tr>\n",
       "      <th>2</th>\n",
       "      <td>3</td>\n",
       "      <td>1100</td>\n",
       "      <td>-0.000028</td>\n",
       "    </tr>\n",
       "    <tr>\n",
       "      <th>3</th>\n",
       "      <td>4</td>\n",
       "      <td>1100</td>\n",
       "      <td>-0.000024</td>\n",
       "    </tr>\n",
       "    <tr>\n",
       "      <th>4</th>\n",
       "      <td>5</td>\n",
       "      <td>1100</td>\n",
       "      <td>-0.000022</td>\n",
       "    </tr>\n",
       "  </tbody>\n",
       "</table>\n",
       "</div>"
      ],
      "text/plain": [
       "   No.    C1        C2\n",
       "0    1  1100 -0.000042\n",
       "1    2  1100 -0.000033\n",
       "2    3  1100 -0.000028\n",
       "3    4  1100 -0.000024\n",
       "4    5  1100 -0.000022"
      ]
     },
     "execution_count": 7,
     "metadata": {},
     "output_type": "execute_result"
    }
   ],
   "source": [
    "# import txt file and create dataframe\n",
    "filename5 = \"profile-av/profile-av5.txt\"\n",
    "results_av_v5 = pd.read_csv(filename5, sep=' ', \n",
    "                names = [\"No.\", \"C1\", \"C2\"]) # assign names to columns\n",
    "\n",
    "results_av_v5.head()"
   ]
  },
  {
   "cell_type": "markdown",
   "metadata": {},
   "source": [
    "<h2>STEP 3</h2>\n",
    "<h3>Data visualisation</h3><br>\n",
    "GRAPH: pressure vs. viscosity"
   ]
  },
  {
   "cell_type": "code",
   "execution_count": 8,
   "metadata": {},
   "outputs": [
    {
     "data": {
      "image/png": "[encoded data removed]",
      "text/plain": [
       "<Figure size 432x288 with 1 Axes>"
      ]
     },
     "metadata": {
      "needs_background": "light"
     },
     "output_type": "display_data"
    }
   ],
   "source": [
    "pressure_values = [0.1, 26.4, 50, 70, 100] # Mega Pascal\n",
    "viscosity_values = [0.000316681, 0.000412475, 0.00050008, 0.000557375, 0.000682815] # Pa*s (Simulation data)\n",
    "labels = ['(0.1;0.000316681)', '(26.4;0.000412475)', '(50;0.00050008)',\n",
    "          '(70;0.000557375)', '(100;0.000682815)']\n",
    "\n",
    "# create a line chart, pressure on x-axis, viscosity on y-axis \n",
    "plt.plot(pressure_values, viscosity_values, color='green', marker='o', linestyle='solid') \n",
    "# add a title \n",
    "plt.title(\"Pressure vs Viscosity\") \n",
    "# add a label to the x-axis and y-axis \n",
    "plt.xlabel(\"Pressure MPa\")\n",
    "plt.ylabel(\"Viscosity Pa*s\") \n",
    "plt.grid(color='gray', linestyle='-', linewidth=0.1)\n",
    "\n",
    "# label each point\n",
    "for label, pressure_v, viscosity_v in zip(labels, pressure_values, viscosity_values):\n",
    "    plt.annotate(label, xy=(pressure_v, viscosity_v), # put the label with its point\n",
    "    xytext=(5, -5),                                 # but slightly offset\n",
    "    textcoords='offset points') \n",
    "\n",
    "# plt.axis([-5, 100, -5, 1.])\n",
    "plt.savefig('viscosity.png', dpi=300)\n",
    "plt.show() "
   ]
  },
  {
   "cell_type": "markdown",
   "metadata": {},
   "source": [
    "<h2>STEP 4</h2>\n",
    "<h3>Comparison</h3><br>\n",
    "Error computation"
   ]
  },
  {
   "cell_type": "code",
   "execution_count": 13,
   "metadata": {},
   "outputs": [],
   "source": [
    "# Experimental data\n",
    "\n",
    "# Source (Pádua)\n",
    "# Temperature: 298.15 K\n",
    "pressure_raw_1 = [0.1, 30.1, 50.05, 70, 100.1] # MPa\n",
    "viscosity_raw_1 = [0.473, 0.669, 0.812, 0.971, 1.23] # mPa s\n",
    "viscosity_experimental_1 = [i * 0.001 for i in viscosity_raw_1] # Pa s\n",
    "\n",
    "# Source (Dymond)\n",
    "# Temperature: 24.99 C\n",
    "pressure_raw_2 = [0.1, 26.4, 50.7, 100.5, 100.5] # MPa 200.4\n",
    "viscosity_raw_2 = [0.4718, 0.641, 0.814, 1.237, 1.237] # mPa s 2.482\n",
    "viscosity_experimental_2 = [i * 0.001 for i in viscosity_raw_2] # Pa s\n",
    "# https://stackoverflow.com/questions/35166633/how-do-i-multiply-each-element-in-a-list-by-a-number/35166717\n",
    "\n",
    "# Simulation data (See step 3)\n",
    "# Temperature: 298 K"
   ]
  },
  {
   "cell_type": "code",
   "execution_count": 14,
   "metadata": {},
   "outputs": [],
   "source": [
    "# MAE - mean absolute error\n",
    "def mae(pred_list, true_list):\n",
    "    if len(pred_list) != len(true_list):\n",
    "        raise Exception(\"Error: number of elements not match!\")\n",
    "    true_list, pred_list = np.array(true_list), np.array(pred_list)\n",
    "    return np.mean(np.abs(true_list - pred_list))\n",
    "\n",
    "# MAPE - mean absolute percentage error\n",
    "def mape(pred_list, true_list):\n",
    "    if len(pred_list) != len(true_list):\n",
    "        raise Exception(\"Error: number of elements not match!\")\n",
    "    true_list, pred_list = np.array(true_list), np.array(pred_list)\n",
    "    return np.mean(np.abs((true_list - pred_list) / true_list)) * 100"
   ]
  },
  {
   "cell_type": "code",
   "execution_count": 15,
   "metadata": {},
   "outputs": [
    {
     "name": "stdout",
     "output_type": "stream",
     "text": [
      "Model's Error: 0.000337 kg/L = 39.378235 %\n"
     ]
    }
   ],
   "source": [
    "# Error computation\n",
    "\n",
    "print(\"Model's Error: {:.6f} kg/L = {:.6f} %\"\n",
    "      .format(mae(viscosity_values, viscosity_experimental_1), \n",
    "              mape(viscosity_values, viscosity_experimental_1)))"
   ]
  },
  {
   "cell_type": "code",
   "execution_count": 16,
   "metadata": {},
   "outputs": [
    {
     "data": {
      "image/png": "[encoded data removed]",
      "text/plain": [
       "<Figure size 432x288 with 1 Axes>"
      ]
     },
     "metadata": {
      "needs_background": "light"
     },
     "output_type": "display_data"
    }
   ],
   "source": [
    "# Visualisation\n",
    "# create a line chart, pressure on x-axis, viscosity on y-axis \n",
    "plt.plot(pressure_values, viscosity_values, 'g-', label='Simulation data')\n",
    "plt.plot(pressure_raw_1, viscosity_experimental_1, 'r-.', label='Experimetal data 1')\n",
    "plt.plot(pressure_raw_2, viscosity_experimental_2, 'b:', label='Experimetal data 2')\n",
    "\n",
    "# add a title \n",
    "plt.title(\"Pressure vs Viscosity\") \n",
    "\n",
    "# add a legend\n",
    "plt.legend(loc=9) # top center\n",
    "\n",
    "# label each point\n",
    "for label, pressure_v, viscosity_v in zip(labels, pressure_values, viscosity_values):\n",
    "    plt.annotate(label, xy=(pressure_v, viscosity_v), # put the label with its point\n",
    "    xytext=(5, -5),                                 # but slightly offset\n",
    "    textcoords='offset points') \n",
    "\n",
    "# add a label to the x-axis and y-axis \n",
    "plt.xlabel(\"Pressure MPa\")\n",
    "plt.ylabel(\"Viscosity kg/L\")\n",
    "plt.grid(color='gray', linestyle='-', linewidth=0.1)\n",
    "plt.savefig('viscosity_comparison.png', dpi=300)\n"
   ]
  }
 ],
 "metadata": {
  "kernelspec": {
   "display_name": "Python 3",
   "language": "python",
   "name": "python3"
  },
  "language_info": {
   "codemirror_mode": {
    "name": "ipython",
    "version": 3
   },
   "file_extension": ".py",
   "mimetype": "text/x-python",
   "name": "python",
   "nbconvert_exporter": "python",
   "pygments_lexer": "ipython3",
   "version": "3.7.1"
  }
 },
 "nbformat": 4,
 "nbformat_minor": 2
}
